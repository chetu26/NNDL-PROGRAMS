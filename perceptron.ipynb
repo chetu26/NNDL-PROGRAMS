{
 "cells": [
  {
   "cell_type": "markdown",
   "id": "c77516ca",
   "metadata": {},
   "source": [
    "# Q2.Implement AND, OR and XOR gates using Perceptron neuron learning model with Unit step function and sigmoid function as activation functions taken one at a time."
   ]
  },
  {
   "cell_type": "markdown",
   "id": "0001bde8",
   "metadata": {},
   "source": [
    "# With Step Function"
   ]
  },
  {
   "cell_type": "code",
   "execution_count": 17,
   "id": "d02e3dcd",
   "metadata": {},
   "outputs": [
    {
     "name": "stdout",
     "output_type": "stream",
     "text": [
      "weighted sum : 0.31\n",
      "output: 0\n"
     ]
    }
   ],
   "source": [
    "x_input = [0.1, 0.5, 0.2]\n",
    "w_weights = [0.4, 0.3, 0.6]\n",
    "threshold = 0.5\n",
    "\n",
    "def step(weighted_sum):\n",
    "    if weighted_sum>threshold:\n",
    "        return 1\n",
    "    else:\n",
    "        return 0\n",
    "    \n",
    "def perceptron():\n",
    "    weighted_sum = 0\n",
    "    for x,w in zip(x_input, w_weights):\n",
    "        weighted_sum += x*w\n",
    "    print(\"weighted sum :\",weighted_sum)\n",
    "    return step(weighted_sum)\n",
    "\n",
    "output = perceptron()\n",
    "print(\"output: \" + str(output))"
   ]
  },
  {
   "cell_type": "markdown",
   "id": "08dd96aa",
   "metadata": {},
   "source": [
    "# With Sigmoid Function"
   ]
  },
  {
   "cell_type": "code",
   "execution_count": 15,
   "id": "7e4430b4",
   "metadata": {},
   "outputs": [
    {
     "name": "stdout",
     "output_type": "stream",
     "text": [
      "weighted sum : 0.31\n",
      "activation function value: 0.5768852611320463\n",
      "output: 1\n"
     ]
    }
   ],
   "source": [
    "import numpy as np\n",
    "\n",
    "x_input = [0.1, 0.5, 0.2]\n",
    "w_weights = [0.4, 0.3, 0.6]\n",
    "threshold = 0.5\n",
    "\n",
    "def sig(x):\n",
    "     y = 1/(1 + np.exp(-x))\n",
    "     print(\"activation function value:\",y)\n",
    "     if(y>threshold):\n",
    "            return 1\n",
    "     else:\n",
    "            return 0\n",
    "             \n",
    "def perceptron():\n",
    "    weighted_sum = 0\n",
    "    for x,w in zip(x_input, w_weights):\n",
    "        weighted_sum += x*w\n",
    "    print(\"weighted sum :\",weighted_sum)\n",
    "    return sig(weighted_sum)\n",
    "\n",
    "output = perceptron()\n",
    "print(\"output: \" + str(output))"
   ]
  },
  {
   "cell_type": "code",
   "execution_count": null,
   "id": "7c3d2ce4",
   "metadata": {},
   "outputs": [],
   "source": []
  }
 ],
 "metadata": {
  "kernelspec": {
   "display_name": "Python 3 (ipykernel)",
   "language": "python",
   "name": "python3"
  },
  "language_info": {
   "codemirror_mode": {
    "name": "ipython",
    "version": 3
   },
   "file_extension": ".py",
   "mimetype": "text/x-python",
   "name": "python",
   "nbconvert_exporter": "python",
   "pygments_lexer": "ipython3",
   "version": "3.9.7"
  }
 },
 "nbformat": 4,
 "nbformat_minor": 5
}
