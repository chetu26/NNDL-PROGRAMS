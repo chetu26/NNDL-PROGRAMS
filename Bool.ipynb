{
 "cells": [
  {
   "cell_type": "markdown",
   "metadata": {},
   "source": [
    "# Q1. Implement AND, OR and XOR gates using Mc Culloch Pit neuron model.\n"
   ]
  },
  {
   "cell_type": "code",
   "execution_count": 1,
   "metadata": {},
   "outputs": [
    {
     "name": "stdout",
     "output_type": "stream",
     "text": [
      "Input Table :\n",
      "[[0 0]\n",
      " [0 1]\n",
      " [1 0]\n",
      " [1 1]]\n"
     ]
    }
   ],
   "source": [
    "import numpy as np\n",
    "Input= np.array([\n",
    "    [0,0],\n",
    "    [0,1],\n",
    "    [1,0],\n",
    "    [1,1]\n",
    "])\n",
    "\n",
    "print(f'Input Table :\\n{Input}')"
   ]
  },
  {
   "cell_type": "markdown",
   "metadata": {},
   "source": [
    "Weights taken to realise for AND Gate and OR Gate (both inhibitory)"
   ]
  },
  {
   "cell_type": "code",
   "execution_count": 2,
   "metadata": {},
   "outputs": [
    {
     "name": "stdout",
     "output_type": "stream",
     "text": [
      "weights:[1 1]\n"
     ]
    }
   ],
   "source": [
    "Weight = np.array([1,1])\n",
    "print(f'weights:{Weight}')"
   ]
  },
  {
   "cell_type": "markdown",
   "metadata": {},
   "source": [
    "Weights taken to realise (x'.y) {First as inhibitory , Second as excitatory}"
   ]
  },
  {
   "cell_type": "code",
   "execution_count": 3,
   "metadata": {},
   "outputs": [
    {
     "name": "stdout",
     "output_type": "stream",
     "text": [
      "weights:[ 1 -1]\n"
     ]
    }
   ],
   "source": [
    "Weight1 = np.array([1,-1])\n",
    "print(f'weights:{Weight1}')"
   ]
  },
  {
   "cell_type": "markdown",
   "metadata": {},
   "source": [
    "Weights taken to realise (x.y'){First as exitatory , Second as inhibitory}"
   ]
  },
  {
   "cell_type": "code",
   "execution_count": 4,
   "metadata": {},
   "outputs": [
    {
     "name": "stdout",
     "output_type": "stream",
     "text": [
      "weights:[-1  1]\n"
     ]
    }
   ],
   "source": [
    "Weight2 = np.array([-1,1])\n",
    "print(f'weights:{Weight2}')"
   ]
  },
  {
   "cell_type": "code",
   "execution_count": 5,
   "metadata": {},
   "outputs": [
    {
     "name": "stdout",
     "output_type": "stream",
     "text": [
      "Dot Product : [0 1 1 2]\n"
     ]
    }
   ],
   "source": [
    "dot = Input @ Weight\n",
    "print(f'Dot Product : {dot}')"
   ]
  },
  {
   "cell_type": "code",
   "execution_count": 6,
   "metadata": {},
   "outputs": [
    {
     "name": "stdout",
     "output_type": "stream",
     "text": [
      "Dot Product : [ 0 -1  1  0]\n"
     ]
    }
   ],
   "source": [
    "dot1 = Input @ Weight1\n",
    "print(f'Dot Product : {dot1}')"
   ]
  },
  {
   "cell_type": "code",
   "execution_count": 7,
   "metadata": {},
   "outputs": [
    {
     "name": "stdout",
     "output_type": "stream",
     "text": [
      "Dot Product : [ 0  1 -1  0]\n"
     ]
    }
   ],
   "source": [
    "dot2 = Input @ Weight2\n",
    "print(f'Dot Product : {dot2}')"
   ]
  },
  {
   "cell_type": "code",
   "execution_count": 8,
   "metadata": {},
   "outputs": [],
   "source": [
    "def neuron_firing(dot : int , Threshold : float) -> int:\n",
    "    if dot >= Threshold:\n",
    "        return 1\n",
    "    else:\n",
    "        return 0\n"
   ]
  },
  {
   "cell_type": "markdown",
   "metadata": {},
   "source": [
    "And Gate Realisation"
   ]
  },
  {
   "cell_type": "code",
   "execution_count": 9,
   "metadata": {},
   "outputs": [
    {
     "name": "stdout",
     "output_type": "stream",
     "text": [
      "Activation for AND Gate : 0\n",
      "Activation for AND Gate : 0\n",
      "Activation for AND Gate : 0\n",
      "Activation for AND Gate : 1\n"
     ]
    }
   ],
   "source": [
    "Threshold = 2\n",
    "for i in range(0,4):\n",
    "        activation = neuron_firing(dot[i] , Threshold)\n",
    "        print(f'Activation for AND Gate : {activation}')"
   ]
  },
  {
   "cell_type": "markdown",
   "metadata": {},
   "source": [
    "Or Gate Realisation"
   ]
  },
  {
   "cell_type": "code",
   "execution_count": 10,
   "metadata": {},
   "outputs": [
    {
     "name": "stdout",
     "output_type": "stream",
     "text": [
      "Activation for OR Gate : 0\n",
      "Activation for OR Gate : 1\n",
      "Activation for OR Gate : 1\n",
      "Activation for OR Gate : 1\n"
     ]
    }
   ],
   "source": [
    "\n",
    "Threshold = 1\n",
    "for i in range(0,4):\n",
    "    activation = neuron_firing(dot[i] , Threshold)\n",
    "    print(f'Activation for OR Gate : {activation}')"
   ]
  },
  {
   "cell_type": "code",
   "execution_count": 11,
   "metadata": {},
   "outputs": [
    {
     "name": "stdout",
     "output_type": "stream",
     "text": [
      "Activation for (x complement AND y): 0\n",
      "Activation for (x complement AND y): 0\n",
      "Activation for (x complement AND y): 1\n",
      "Activation for (x complement AND y): 0\n"
     ]
    }
   ],
   "source": [
    "array = Input\n",
    "Threshold >=1\n",
    "for i in range(0,4):\n",
    "    activation1 = neuron_firing(dot1[i] , Threshold)\n",
    "    print(f'Activation for (x complement AND y): {activation1}')\n",
    "    array[i][0] = activation1"
   ]
  },
  {
   "cell_type": "code",
   "execution_count": 12,
   "metadata": {},
   "outputs": [
    {
     "name": "stdout",
     "output_type": "stream",
     "text": [
      "Activation for (x AND y complement) : 0\n",
      "Activation for (x AND y complement) : 1\n",
      "Activation for (x AND y complement) : 0\n",
      "Activation for (x AND y complement) : 0\n"
     ]
    }
   ],
   "source": [
    "Threshold >=1\n",
    "for i in range(0,4):\n",
    "    activation1 = neuron_firing(dot2[i] , Threshold)\n",
    "    print(f'Activation for (x AND y complement) : {activation1}')\n",
    "    array[i][1] = activation1"
   ]
  },
  {
   "cell_type": "code",
   "execution_count": 13,
   "metadata": {},
   "outputs": [
    {
     "name": "stdout",
     "output_type": "stream",
     "text": [
      "[[0 0]\n",
      " [0 1]\n",
      " [1 0]\n",
      " [0 0]]\n"
     ]
    }
   ],
   "source": [
    "print(array)"
   ]
  },
  {
   "cell_type": "code",
   "execution_count": 14,
   "metadata": {},
   "outputs": [
    {
     "name": "stdout",
     "output_type": "stream",
     "text": [
      "Final Weights :[0 1 1 0]\n"
     ]
    }
   ],
   "source": [
    "dot_final = array @ Weight\n",
    "print(f'Final Weights :{dot_final}')"
   ]
  },
  {
   "cell_type": "markdown",
   "metadata": {},
   "source": [
    "Final XOR Gate realisation"
   ]
  },
  {
   "cell_type": "code",
   "execution_count": 15,
   "metadata": {
    "scrolled": true
   },
   "outputs": [
    {
     "name": "stdout",
     "output_type": "stream",
     "text": [
      "Activation Of XOR Gate: 0\n",
      "Activation Of XOR Gate: 1\n",
      "Activation Of XOR Gate: 1\n",
      "Activation Of XOR Gate: 0\n"
     ]
    }
   ],
   "source": [
    "Threshold >=1\n",
    "for i in range(0,4):\n",
    "    activation_final = neuron_firing(dot_final[i] , Threshold)\n",
    "    print(f'Activation Of XOR Gate: {activation_final}')"
   ]
  }
 ],
 "metadata": {
  "interpreter": {
   "hash": "780a354d57c8e214d9717ce5db3cb79ec448e2663d29d7e7694b88eee37d2c96"
  },
  "kernelspec": {
   "display_name": "Python 3 (ipykernel)",
   "language": "python",
   "name": "python3"
  },
  "language_info": {
   "codemirror_mode": {
    "name": "ipython",
    "version": 3
   },
   "file_extension": ".py",
   "mimetype": "text/x-python",
   "name": "python",
   "nbconvert_exporter": "python",
   "pygments_lexer": "ipython3",
   "version": "3.9.7"
  }
 },
 "nbformat": 4,
 "nbformat_minor": 2
}
